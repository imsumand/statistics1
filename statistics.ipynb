{
 "cells": [
  {
   "cell_type": "code",
   "execution_count": 2,
   "metadata": {},
   "outputs": [],
   "source": [
    "import numpy as np\n",
    "import pandas as pd\n",
    "import matplotlib.pyplot as plt\n",
    "import seaborn as sns"
   ]
  },
  {
   "cell_type": "markdown",
   "metadata": {},
   "source": [
    "# Question 1.\n",
    "\n",
    "You have to create a function that receives a list of numbers like [23,14,13,56,78,98,12] and returns it's Interquartile range(IQR)\n",
    "\n",
    "Note: You have to code the logic from scratch"
   ]
  },
  {
   "cell_type": "code",
   "execution_count": 46,
   "metadata": {},
   "outputs": [],
   "source": [
    "def intr():\n",
    "    r=int(input(\"enter the no. of elements: \"))\n",
    "    b=[]\n",
    "    for i in range(r):\n",
    "        a=int(input(\"enter the number: \"))\n",
    "        b.append(a)\n",
    "    b.sort()\n",
    "    a1=int((25/100)*(r+1))\n",
    "    a2=(b[a1]+b[a1+1])/2\n",
    "    a11=int((75/100)*(r+1))\n",
    "    a21=(b[a11]+b[a11+1])/2\n",
    "    print (\"IQR=\",a21-a11)"
   ]
  },
  {
   "cell_type": "code",
   "execution_count": 48,
   "metadata": {},
   "outputs": [
    {
     "name": "stdout",
     "output_type": "stream",
     "text": [
      "enter the no. of elements: 9\n",
      "enter the number: 56\n",
      "enter the number: 7\n",
      "enter the number: 54\n",
      "enter the number: 6\n",
      "enter the number: 12\n",
      "enter the number: 9\n",
      "enter the number: 87\n",
      "enter the number: 5\n",
      "enter the number: 6\n",
      "IQR= 49\n"
     ]
    }
   ],
   "source": [
    "intr()"
   ]
  },
  {
   "cell_type": "code",
   "execution_count": 49,
   "metadata": {},
   "outputs": [],
   "source": [
    "arr1=[56,7,54,6,12,9,87,5,6]"
   ]
  },
  {
   "cell_type": "code",
   "execution_count": 50,
   "metadata": {},
   "outputs": [
    {
     "data": {
      "text/plain": [
       "48.0"
      ]
     },
     "execution_count": 50,
     "metadata": {},
     "output_type": "execute_result"
    }
   ],
   "source": [
    "b=np.percentile(arr1,25)\n",
    "c=np.percentile(arr1,75)\n",
    "c-b"
   ]
  },
  {
   "cell_type": "code",
   "execution_count": 3,
   "metadata": {},
   "outputs": [],
   "source": [
    "match=pd.read_csv('matches-Copy1.csv')\n",
    "delivery=pd.read_csv('deliveries-Copy1.csv')"
   ]
  },
  {
   "cell_type": "markdown",
   "metadata": {},
   "source": [
    "# Question 2:\n",
    "\n",
    "Plot a histogram for total team scores for all IPL games.\n",
    "\n",
    "Note: Per match 2 teams will play hence total number scores would be = no. of matches * 2"
   ]
  },
  {
   "cell_type": "code",
   "execution_count": 22,
   "metadata": {},
   "outputs": [
    {
     "data": {
      "text/plain": [
       "(array([  1.,   4.,  24.,  71., 211., 463., 464., 221.,  45.,   6.]),\n",
       " array([  2. ,  28.1,  54.2,  80.3, 106.4, 132.5, 158.6, 184.7, 210.8,\n",
       "        236.9, 263. ]),\n",
       " <a list of 10 Patch objects>)"
      ]
     },
     "execution_count": 22,
     "metadata": {},
     "output_type": "execute_result"
    },
    {
     "data": {
      "image/png": "[encoded data removed]",
      "text/plain": [
       "<Figure size 432x288 with 1 Axes>"
      ]
     },
     "metadata": {
      "needs_background": "light"
     },
     "output_type": "display_data"
    }
   ],
   "source": [
    "a=delivery['inning']==1\n",
    "b=delivery['inning']==2\n",
    "c=a | b\n",
    "x1=delivery[c]\n",
    "x=x1.groupby(['match_id','inning']).sum()['total_runs'].reset_index()\n",
    "y=x['total_runs'].values\n",
    "plt.hist(y)"
   ]
  },
  {
   "cell_type": "markdown",
   "metadata": {},
   "source": [
    "# Question 3.\n",
    "\n",
    "Find the skewness of bowler economy data where the bowler has bowled a minimum of 300 balls.\n",
    "\n",
    "Note : if you don't know about economy read this https://en.wikipedia.org/wiki/Economy_rate_(cricket)"
   ]
  },
  {
   "cell_type": "code",
   "execution_count": 62,
   "metadata": {},
   "outputs": [
    {
     "name": "stdout",
     "output_type": "stream",
     "text": [
      "0.33145043513674066\n"
     ]
    },
    {
     "data": {
      "text/plain": [
       "<matplotlib.axes._subplots.AxesSubplot at 0x27f02489b48>"
      ]
     },
     "execution_count": 62,
     "metadata": {},
     "output_type": "execute_result"
    },
    {
     "data": {
      "image/png": "[encoded data removed]",
      "text/plain": [
       "<Figure size 432x288 with 1 Axes>"
      ]
     },
     "metadata": {
      "needs_background": "light"
     },
     "output_type": "display_data"
    }
   ],
   "source": [
    "c=delivery.groupby('bowler').count()['ball'].reset_index()\n",
    "d=c['ball']>=300\n",
    "e=c[d]\n",
    "f=e['bowler'].reset_index()\n",
    "g=f.merge(delivery)\n",
    "runs=g.groupby('bowler')['batsman_runs'].sum()\n",
    "balls=g.groupby('bowler')['ball'].count()\n",
    "economy=(runs/balls)*6\n",
    "print(economy.skew())\n",
    "sns.kdeplot(economy)"
   ]
  },
  {
   "cell_type": "code",
   "execution_count": 63,
   "metadata": {},
   "outputs": [
    {
     "data": {
      "text/plain": [
       "bowler\n",
       "A Kumble             6.268566\n",
       "A Mishra             7.049811\n",
       "A Mithun             8.615385\n",
       "A Nehra              7.361702\n",
       "A Singh              7.840290\n",
       "                       ...   \n",
       "Washington Sundar    7.575419\n",
       "YK Pathan            6.952703\n",
       "YS Chahal            7.495926\n",
       "Yuvraj Singh         7.244898\n",
       "Z Khan               7.094025\n",
       "Length: 150, dtype: float64"
      ]
     },
     "execution_count": 63,
     "metadata": {},
     "output_type": "execute_result"
    }
   ],
   "source": [
    "economy"
   ]
  },
  {
   "cell_type": "markdown",
   "metadata": {},
   "source": [
    "# Question 4:\n",
    "\n",
    "Give three examples of negatively skewed data and 3 examples of positively skewed data"
   ]
  },
  {
   "cell_type": "markdown",
   "metadata": {},
   "source": [
    "# negative:\n",
    "1. grades of students in a college\n",
    "2. age of death in a certain region\n",
    "3. new cases/day of corona virus in china"
   ]
  },
  {
   "cell_type": "markdown",
   "metadata": {},
   "source": [
    "# positive:\n",
    "1. price of smartphones\n",
    "2. market value of footballers\n",
    "3. selling value in a ipl auction"
   ]
  }
 ],
 "metadata": {
  "kernelspec": {
   "display_name": "Python 3",
   "language": "python",
   "name": "python3"
  },
  "language_info": {
   "codemirror_mode": {
    "name": "ipython",
    "version": 3
   },
   "file_extension": ".py",
   "mimetype": "text/x-python",
   "name": "python",
   "nbconvert_exporter": "python",
   "pygments_lexer": "ipython3",
   "version": "3.7.4"
  }
 },
 "nbformat": 4,
 "nbformat_minor": 2
}
